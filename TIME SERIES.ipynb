{
 "cells": [
  {
   "cell_type": "markdown",
   "id": "6b18fe94",
   "metadata": {},
   "source": [
    "# Tạo chuỗi thời gian:\n",
    "- Từ nhiều nguồn khác nhau\n",
    "- "
   ]
  },
  {
   "cell_type": "code",
   "execution_count": 32,
   "id": "6b2003b0",
   "metadata": {},
   "outputs": [],
   "source": [
    "import pandas as pd\n",
    "import numpy as np"
   ]
  },
  {
   "cell_type": "markdown",
   "id": "f7c7838e",
   "metadata": {},
   "source": [
    "##### Từ định dạng ngày tháng bất kì"
   ]
  },
  {
   "cell_type": "code",
   "execution_count": 56,
   "id": "b7ad4bdd",
   "metadata": {
    "scrolled": true
   },
   "outputs": [
    {
     "data": {
      "text/plain": [
       "DatetimeIndex(['2018-01-01'], dtype='datetime64[ns]', freq=None)"
      ]
     },
     "execution_count": 56,
     "metadata": {},
     "output_type": "execute_result"
    }
   ],
   "source": [
    "pd.to_datetime(['2018,02,01'])     "
   ]
  },
  {
   "cell_type": "code",
   "execution_count": 60,
   "id": "71e27eaf",
   "metadata": {},
   "outputs": [
    {
     "data": {
      "text/plain": [
       "DatetimeIndex(['2021-07-04'], dtype='datetime64[ns]', freq=None)"
      ]
     },
     "execution_count": 60,
     "metadata": {},
     "output_type": "execute_result"
    }
   ],
   "source": [
    "pd.to_datetime([\"4th of July, 2021\"])"
   ]
  },
  {
   "cell_type": "markdown",
   "id": "78bdb62a",
   "metadata": {},
   "source": [
    "##### Từ np.datatime64"
   ]
  },
  {
   "cell_type": "code",
   "execution_count": 59,
   "id": "a56a3c08",
   "metadata": {},
   "outputs": [
    {
     "data": {
      "text/plain": [
       "numpy.datetime64('2015-07-04')"
      ]
     },
     "execution_count": 59,
     "metadata": {},
     "output_type": "execute_result"
    }
   ],
   "source": [
    "np.datetime64('2015-07-04')"
   ]
  },
  {
   "cell_type": "markdown",
   "id": "2dde23cb",
   "metadata": {},
   "source": [
    "##### Tổng hợp từ nhiều nguồn:"
   ]
  },
  {
   "cell_type": "code",
   "execution_count": 62,
   "id": "1b1d24a7",
   "metadata": {},
   "outputs": [
    {
     "data": {
      "text/plain": [
       "DatetimeIndex(['2018-03-15', '2021-12-03', '2019-02-04'], dtype='datetime64[ns]', freq=None)"
      ]
     },
     "execution_count": 62,
     "metadata": {},
     "output_type": "execute_result"
    }
   ],
   "source": [
    "import datetime\n",
    "dti= pd.to_datetime(['2018/03/15', np.datetime64('2021-12-03'), datetime.datetime(2019, 2, 4)])\n",
    "dti"
   ]
  },
  {
   "cell_type": "markdown",
   "id": "16124473",
   "metadata": {},
   "source": [
    "### Tạo một chuỗi thời gian với tần suất cố định:\n",
    " Dựa vào phương thức: date_range('start','end', freq= \" \", periods= none)\n",
    "* start: mốc thời gian bắt đầu, có thể là định dạng đầy đủ \"năm/tháng/ngày\" hoặc \"thangs/ngay/ năm\" hoặc chỉ có \"năm\"\n",
    "* end: mốc thời gian kết thúc( có thể có hoặc không cũng được)\n",
    "* freq: có thể là một trong những lựa chọn dưới đây, tùy theo yêu cầu về kiểu tần suất:\n",
    "      D : nhảy theo ngày, từng ngày một\n",
    "      M : nhảy theo tháng, từ cuối thnags này đến cuối tháng khác, từng tháng một\n",
    "      Y: nhảy theo năm, mốc cuối năm, từng năm một\n",
    "* periods : tổng số bước nhảy, sẽ bỏ đi nếu có \"end\""
   ]
  },
  {
   "cell_type": "code",
   "execution_count": 66,
   "id": "113b257b",
   "metadata": {},
   "outputs": [
    {
     "data": {
      "text/plain": [
       "DatetimeIndex(['2021-01-01', '2021-01-02', '2021-01-03', '2021-01-04',\n",
       "               '2021-01-05', '2021-01-06', '2021-01-07', '2021-01-08',\n",
       "               '2021-01-09', '2021-01-10', '2021-01-11', '2021-01-12',\n",
       "               '2021-01-13', '2021-01-14', '2021-01-15'],\n",
       "              dtype='datetime64[ns]', freq='D')"
      ]
     },
     "execution_count": 66,
     "metadata": {},
     "output_type": "execute_result"
    }
   ],
   "source": [
    "pd.date_range(\"2021\", freq=\"D\", periods= 15)"
   ]
  },
  {
   "cell_type": "code",
   "execution_count": 78,
   "id": "7e5e85c9",
   "metadata": {},
   "outputs": [
    {
     "data": {
      "text/plain": [
       "DatetimeIndex(['2012-01-02', '2012-01-03', '2012-01-04', '2012-01-05'], dtype='datetime64[ns]', freq='D')"
      ]
     },
     "execution_count": 78,
     "metadata": {},
     "output_type": "execute_result"
    }
   ],
   "source": [
    "x1= pd.date_range(\"2012/1/2\", \"2012/1/5\", freq= \"D\")\n",
    "x1"
   ]
  },
  {
   "cell_type": "code",
   "execution_count": 79,
   "id": "92109e0c",
   "metadata": {},
   "outputs": [
    {
     "data": {
      "text/plain": [
       "DatetimeIndex(['2020-01-31', '2020-02-29', '2020-03-31', '2020-04-30',\n",
       "               '2020-05-31', '2020-06-30', '2020-07-31', '2020-08-31',\n",
       "               '2020-09-30', '2020-10-31', '2020-11-30', '2020-12-31'],\n",
       "              dtype='datetime64[ns]', freq='M')"
      ]
     },
     "execution_count": 79,
     "metadata": {},
     "output_type": "execute_result"
    }
   ],
   "source": [
    "pd.date_range(\"2020\", freq=\"M\", periods= 12)"
   ]
  },
  {
   "cell_type": "markdown",
   "id": "01b21159",
   "metadata": {},
   "source": [
    "# 2. Chuyển đổi thời gian: \n",
    "\n",
    "\n",
    "##### Chuyển series về datetime và ngược lại:\n",
    "- chuyển từ series : sử dụng pd.to_datetime(serires_name)\n",
    "\n"
   ]
  },
  {
   "cell_type": "code",
   "execution_count": 100,
   "id": "a73575fb",
   "metadata": {},
   "outputs": [
    {
     "data": {
      "text/plain": [
       "0        2/9/1945\n",
       "1        2-9-2021\n",
       "2    Jun 20, 2019\n",
       "dtype: object"
      ]
     },
     "execution_count": 100,
     "metadata": {},
     "output_type": "execute_result"
    }
   ],
   "source": [
    "# Series ban đầu:\n",
    "SR1=pd.Series([\"2/9/1945\",'2-9-2021','Jun 20, 2019'])    \n",
    "SR1"
   ]
  },
  {
   "cell_type": "code",
   "execution_count": 103,
   "id": "4d0f5cae",
   "metadata": {},
   "outputs": [
    {
     "data": {
      "text/plain": [
       "0   1945-02-09\n",
       "1   2021-02-09\n",
       "2   2019-06-20\n",
       "dtype: datetime64[ns]"
      ]
     },
     "execution_count": 103,
     "metadata": {},
     "output_type": "execute_result"
    }
   ],
   "source": [
    "# tiến hành chuyển đổi:\n",
    "dti_1= pd.to_datetime(SR1)\n",
    "dti_1"
   ]
  },
  {
   "cell_type": "code",
   "execution_count": 33,
   "id": "1ad6bbd6",
   "metadata": {},
   "outputs": [
    {
     "data": {
      "text/html": [
       "<div>\n",
       "<style scoped>\n",
       "    .dataframe tbody tr th:only-of-type {\n",
       "        vertical-align: middle;\n",
       "    }\n",
       "\n",
       "    .dataframe tbody tr th {\n",
       "        vertical-align: top;\n",
       "    }\n",
       "\n",
       "    .dataframe thead th {\n",
       "        text-align: right;\n",
       "    }\n",
       "</style>\n",
       "<table border=\"1\" class=\"dataframe\">\n",
       "  <thead>\n",
       "    <tr style=\"text-align: right;\">\n",
       "      <th></th>\n",
       "      <th>Year</th>\n",
       "      <th>Month</th>\n",
       "      <th>Day</th>\n",
       "    </tr>\n",
       "  </thead>\n",
       "  <tbody>\n",
       "    <tr>\n",
       "      <th>0</th>\n",
       "      <td>2015</td>\n",
       "      <td>1</td>\n",
       "      <td>20</td>\n",
       "    </tr>\n",
       "    <tr>\n",
       "      <th>1</th>\n",
       "      <td>2016</td>\n",
       "      <td>2</td>\n",
       "      <td>21</td>\n",
       "    </tr>\n",
       "    <tr>\n",
       "      <th>2</th>\n",
       "      <td>2017</td>\n",
       "      <td>3</td>\n",
       "      <td>22</td>\n",
       "    </tr>\n",
       "    <tr>\n",
       "      <th>3</th>\n",
       "      <td>2018</td>\n",
       "      <td>4</td>\n",
       "      <td>23</td>\n",
       "    </tr>\n",
       "  </tbody>\n",
       "</table>\n",
       "</div>"
      ],
      "text/plain": [
       "   Year  Month  Day\n",
       "0  2015      1   20\n",
       "1  2016      2   21\n",
       "2  2017      3   22\n",
       "3  2018      4   23"
      ]
     },
     "execution_count": 33,
     "metadata": {},
     "output_type": "execute_result"
    }
   ],
   "source": [
    "# Tạo một Dataframe ban đầu:\n",
    "df= pd.DataFrame({'Year': [2015,2016,2017,2018],\n",
    "                  'Month':[1,2,3,4],\n",
    "                   'Day':[20,21,22,23]})\n",
    "df"
   ]
  },
  {
   "cell_type": "code",
   "execution_count": 127,
   "id": "0e60e02e",
   "metadata": {},
   "outputs": [
    {
     "data": {
      "text/plain": [
       "0   2015-01-20\n",
       "1   2016-02-21\n",
       "2   2017-03-22\n",
       "3   2018-04-23\n",
       "dtype: datetime64[ns]"
      ]
     },
     "execution_count": 127,
     "metadata": {},
     "output_type": "execute_result"
    }
   ],
   "source": [
    "dtime= pd.to_datetime(df[['Year', 'Month','Day']])\n",
    "dtime"
   ]
  },
  {
   "cell_type": "code",
   "execution_count": 131,
   "id": "b408c5c5",
   "metadata": {},
   "outputs": [
    {
     "data": {
      "text/plain": [
       "0   2015-01-20\n",
       "1   2016-02-21\n",
       "2   2017-03-22\n",
       "3   2018-04-23\n",
       "dtype: datetime64[ns]"
      ]
     },
     "execution_count": 131,
     "metadata": {},
     "output_type": "execute_result"
    }
   ],
   "source": [
    "pd.to_datetime(df[['Day','Month','Year']])"
   ]
  },
  {
   "cell_type": "markdown",
   "id": "3b887bad",
   "metadata": {},
   "source": [
    " - chuyển từ datetime sang series: sử dụng hàm ### pd.date_range('start',freq= '', periods= None)"
   ]
  },
  {
   "cell_type": "code",
   "execution_count": 106,
   "id": "8be9f2c6",
   "metadata": {
    "scrolled": true
   },
   "outputs": [
    {
     "data": {
      "text/plain": [
       "DatetimeIndex(['2021-02-01', '2021-02-02', '2021-02-03', '2021-02-04',\n",
       "               '2021-02-05', '2021-02-06', '2021-02-07', '2021-02-08',\n",
       "               '2021-02-09', '2021-02-10'],\n",
       "              dtype='datetime64[ns]', freq='D')"
      ]
     },
     "execution_count": 106,
     "metadata": {},
     "output_type": "execute_result"
    }
   ],
   "source": [
    "# datetime ban đầu:\n",
    "dti_2= pd.date_range(datetime.datetime(2021,2,1), freq= \"D\", periods= 10)\n",
    "dti_2"
   ]
  },
  {
   "cell_type": "code",
   "execution_count": 108,
   "id": "303fccd9",
   "metadata": {},
   "outputs": [
    {
     "data": {
      "text/plain": [
       "2021-02-01    0.045926\n",
       "2021-02-02   -0.850059\n",
       "2021-02-03    1.082454\n",
       "2021-02-04    0.773482\n",
       "2021-02-05    0.699789\n",
       "2021-02-06   -0.257965\n",
       "2021-02-07   -1.297640\n",
       "2021-02-08    0.107754\n",
       "2021-02-09    0.177030\n",
       "2021-02-10   -0.116381\n",
       "Freq: D, dtype: float64"
      ]
     },
     "execution_count": 108,
     "metadata": {},
     "output_type": "execute_result"
    }
   ],
   "source": [
    "# Tạo một series với index= dti_2\n",
    "SR2= pd.Series(np.random.randn(10), index= dti_2)\n",
    "SR2"
   ]
  },
  {
   "cell_type": "code",
   "execution_count": 113,
   "id": "db512209",
   "metadata": {},
   "outputs": [
    {
     "data": {
      "text/plain": [
       " 2.162447   2021-02-01\n",
       "-1.553830   2021-02-02\n",
       " 0.934494   2021-02-03\n",
       " 1.386791   2021-02-04\n",
       "-0.174516   2021-02-05\n",
       "-0.244038   2021-02-06\n",
       "-1.443561   2021-02-07\n",
       "-0.813886   2021-02-08\n",
       " 0.660608   2021-02-09\n",
       " 0.054460   2021-02-10\n",
       "dtype: datetime64[ns]"
      ]
     },
     "execution_count": 113,
     "metadata": {},
     "output_type": "execute_result"
    }
   ],
   "source": [
    "#dạo một series với [data]= dti_2\n",
    "SR3= pd.Series(dti_2, index= np.random.randn(10))\n",
    "SR3"
   ]
  },
  {
   "cell_type": "code",
   "execution_count": 115,
   "id": "73262969",
   "metadata": {},
   "outputs": [
    {
     "data": {
      "text/html": [
       "<div>\n",
       "<style scoped>\n",
       "    .dataframe tbody tr th:only-of-type {\n",
       "        vertical-align: middle;\n",
       "    }\n",
       "\n",
       "    .dataframe tbody tr th {\n",
       "        vertical-align: top;\n",
       "    }\n",
       "\n",
       "    .dataframe thead th {\n",
       "        text-align: right;\n",
       "    }\n",
       "</style>\n",
       "<table border=\"1\" class=\"dataframe\">\n",
       "  <thead>\n",
       "    <tr style=\"text-align: right;\">\n",
       "      <th></th>\n",
       "      <th>B</th>\n",
       "    </tr>\n",
       "  </thead>\n",
       "  <tbody>\n",
       "    <tr>\n",
       "      <th>A0</th>\n",
       "      <td>2021-02-01</td>\n",
       "    </tr>\n",
       "    <tr>\n",
       "      <th>A1</th>\n",
       "      <td>2021-02-02</td>\n",
       "    </tr>\n",
       "    <tr>\n",
       "      <th>A2</th>\n",
       "      <td>2021-02-03</td>\n",
       "    </tr>\n",
       "    <tr>\n",
       "      <th>A3</th>\n",
       "      <td>2021-02-04</td>\n",
       "    </tr>\n",
       "    <tr>\n",
       "      <th>A4</th>\n",
       "      <td>2021-02-05</td>\n",
       "    </tr>\n",
       "    <tr>\n",
       "      <th>A5</th>\n",
       "      <td>2021-02-06</td>\n",
       "    </tr>\n",
       "    <tr>\n",
       "      <th>A6</th>\n",
       "      <td>2021-02-07</td>\n",
       "    </tr>\n",
       "    <tr>\n",
       "      <th>A7</th>\n",
       "      <td>2021-02-08</td>\n",
       "    </tr>\n",
       "    <tr>\n",
       "      <th>A8</th>\n",
       "      <td>2021-02-09</td>\n",
       "    </tr>\n",
       "    <tr>\n",
       "      <th>A9</th>\n",
       "      <td>2021-02-10</td>\n",
       "    </tr>\n",
       "  </tbody>\n",
       "</table>\n",
       "</div>"
      ],
      "text/plain": [
       "            B\n",
       "A0 2021-02-01\n",
       "A1 2021-02-02\n",
       "A2 2021-02-03\n",
       "A3 2021-02-04\n",
       "A4 2021-02-05\n",
       "A5 2021-02-06\n",
       "A6 2021-02-07\n",
       "A7 2021-02-08\n",
       "A8 2021-02-09\n",
       "A9 2021-02-10"
      ]
     },
     "execution_count": 115,
     "metadata": {},
     "output_type": "execute_result"
    }
   ],
   "source": [
    "#  taok một dataframe với [data]= dti_2\n",
    "df_1= pd.DataFrame(dti_2, index=['A' +str(i) for i in range(10)],\n",
    "                  columns=['B'])\n",
    "df_1"
   ]
  },
  {
   "cell_type": "code",
   "execution_count": 117,
   "id": "33c3e134",
   "metadata": {},
   "outputs": [
    {
     "data": {
      "text/html": [
       "<div>\n",
       "<style scoped>\n",
       "    .dataframe tbody tr th:only-of-type {\n",
       "        vertical-align: middle;\n",
       "    }\n",
       "\n",
       "    .dataframe tbody tr th {\n",
       "        vertical-align: top;\n",
       "    }\n",
       "\n",
       "    .dataframe thead th {\n",
       "        text-align: right;\n",
       "    }\n",
       "</style>\n",
       "<table border=\"1\" class=\"dataframe\">\n",
       "  <thead>\n",
       "    <tr style=\"text-align: right;\">\n",
       "      <th></th>\n",
       "      <th>Value</th>\n",
       "    </tr>\n",
       "  </thead>\n",
       "  <tbody>\n",
       "    <tr>\n",
       "      <th>2021-02-01</th>\n",
       "      <td>-1.174286</td>\n",
       "    </tr>\n",
       "    <tr>\n",
       "      <th>2021-02-02</th>\n",
       "      <td>1.671786</td>\n",
       "    </tr>\n",
       "    <tr>\n",
       "      <th>2021-02-03</th>\n",
       "      <td>0.726769</td>\n",
       "    </tr>\n",
       "    <tr>\n",
       "      <th>2021-02-04</th>\n",
       "      <td>0.165506</td>\n",
       "    </tr>\n",
       "    <tr>\n",
       "      <th>2021-02-05</th>\n",
       "      <td>0.081306</td>\n",
       "    </tr>\n",
       "    <tr>\n",
       "      <th>2021-02-06</th>\n",
       "      <td>-0.011402</td>\n",
       "    </tr>\n",
       "    <tr>\n",
       "      <th>2021-02-07</th>\n",
       "      <td>1.154684</td>\n",
       "    </tr>\n",
       "    <tr>\n",
       "      <th>2021-02-08</th>\n",
       "      <td>0.523002</td>\n",
       "    </tr>\n",
       "    <tr>\n",
       "      <th>2021-02-09</th>\n",
       "      <td>-0.109953</td>\n",
       "    </tr>\n",
       "    <tr>\n",
       "      <th>2021-02-10</th>\n",
       "      <td>0.753549</td>\n",
       "    </tr>\n",
       "  </tbody>\n",
       "</table>\n",
       "</div>"
      ],
      "text/plain": [
       "               Value\n",
       "2021-02-01 -1.174286\n",
       "2021-02-02  1.671786\n",
       "2021-02-03  0.726769\n",
       "2021-02-04  0.165506\n",
       "2021-02-05  0.081306\n",
       "2021-02-06 -0.011402\n",
       "2021-02-07  1.154684\n",
       "2021-02-08  0.523002\n",
       "2021-02-09 -0.109953\n",
       "2021-02-10  0.753549"
      ]
     },
     "execution_count": 117,
     "metadata": {},
     "output_type": "execute_result"
    }
   ],
   "source": [
    "# Tạo một dataframe với index= dti_2\n",
    "df_2= pd.DataFrame(np.random.randn(10), index= dti_2, columns= ['Value'])\n",
    "df_2"
   ]
  },
  {
   "cell_type": "code",
   "execution_count": 83,
   "id": "430294bb",
   "metadata": {},
   "outputs": [
    {
     "data": {
      "text/html": [
       "<div>\n",
       "<style scoped>\n",
       "    .dataframe tbody tr th:only-of-type {\n",
       "        vertical-align: middle;\n",
       "    }\n",
       "\n",
       "    .dataframe tbody tr th {\n",
       "        vertical-align: top;\n",
       "    }\n",
       "\n",
       "    .dataframe thead th {\n",
       "        text-align: right;\n",
       "    }\n",
       "</style>\n",
       "<table border=\"1\" class=\"dataframe\">\n",
       "  <thead>\n",
       "    <tr style=\"text-align: right;\">\n",
       "      <th></th>\n",
       "      <th>year</th>\n",
       "      <th>week</th>\n",
       "      <th>day</th>\n",
       "    </tr>\n",
       "  </thead>\n",
       "  <tbody>\n",
       "    <tr>\n",
       "      <th>2019-12-29</th>\n",
       "      <td>2019</td>\n",
       "      <td>52</td>\n",
       "      <td>7</td>\n",
       "    </tr>\n",
       "    <tr>\n",
       "      <th>2019-12-30</th>\n",
       "      <td>2020</td>\n",
       "      <td>1</td>\n",
       "      <td>1</td>\n",
       "    </tr>\n",
       "    <tr>\n",
       "      <th>2019-12-31</th>\n",
       "      <td>2020</td>\n",
       "      <td>1</td>\n",
       "      <td>2</td>\n",
       "    </tr>\n",
       "    <tr>\n",
       "      <th>2020-01-01</th>\n",
       "      <td>2020</td>\n",
       "      <td>1</td>\n",
       "      <td>3</td>\n",
       "    </tr>\n",
       "  </tbody>\n",
       "</table>\n",
       "</div>"
      ],
      "text/plain": [
       "            year  week  day\n",
       "2019-12-29  2019    52    7\n",
       "2019-12-30  2020     1    1\n",
       "2019-12-31  2020     1    2\n",
       "2020-01-01  2020     1    3"
      ]
     },
     "execution_count": 83,
     "metadata": {},
     "output_type": "execute_result"
    }
   ],
   "source": [
    "idx = pd.date_range(start=\"2019-12-29\", freq=\"D\", periods=4)\n",
    "idx.isocalendar()"
   ]
  },
  {
   "cell_type": "code",
   "execution_count": 88,
   "id": "1300d475",
   "metadata": {},
   "outputs": [],
   "source": [
    "new= idx.to_series().dt.isocalendar()"
   ]
  },
  {
   "cell_type": "code",
   "execution_count": 90,
   "id": "0ce314de",
   "metadata": {},
   "outputs": [
    {
     "data": {
      "text/html": [
       "<div>\n",
       "<style scoped>\n",
       "    .dataframe tbody tr th:only-of-type {\n",
       "        vertical-align: middle;\n",
       "    }\n",
       "\n",
       "    .dataframe tbody tr th {\n",
       "        vertical-align: top;\n",
       "    }\n",
       "\n",
       "    .dataframe thead th {\n",
       "        text-align: right;\n",
       "    }\n",
       "</style>\n",
       "<table border=\"1\" class=\"dataframe\">\n",
       "  <thead>\n",
       "    <tr style=\"text-align: right;\">\n",
       "      <th></th>\n",
       "      <th>year</th>\n",
       "      <th>week</th>\n",
       "      <th>day</th>\n",
       "    </tr>\n",
       "  </thead>\n",
       "  <tbody>\n",
       "    <tr>\n",
       "      <th>2019-12-29</th>\n",
       "      <td>2019</td>\n",
       "      <td>52</td>\n",
       "      <td>7</td>\n",
       "    </tr>\n",
       "    <tr>\n",
       "      <th>2019-12-30</th>\n",
       "      <td>2020</td>\n",
       "      <td>1</td>\n",
       "      <td>1</td>\n",
       "    </tr>\n",
       "    <tr>\n",
       "      <th>2019-12-31</th>\n",
       "      <td>2020</td>\n",
       "      <td>1</td>\n",
       "      <td>2</td>\n",
       "    </tr>\n",
       "    <tr>\n",
       "      <th>2020-01-01</th>\n",
       "      <td>2020</td>\n",
       "      <td>1</td>\n",
       "      <td>3</td>\n",
       "    </tr>\n",
       "  </tbody>\n",
       "</table>\n",
       "</div>"
      ],
      "text/plain": [
       "            year  week  day\n",
       "2019-12-29  2019    52    7\n",
       "2019-12-30  2020     1    1\n",
       "2019-12-31  2020     1    2\n",
       "2020-01-01  2020     1    3"
      ]
     },
     "execution_count": 90,
     "metadata": {},
     "output_type": "execute_result"
    }
   ],
   "source": [
    "new"
   ]
  },
  {
   "cell_type": "code",
   "execution_count": 94,
   "id": "28df0fe4",
   "metadata": {},
   "outputs": [
    {
     "data": {
      "text/html": [
       "<div>\n",
       "<style scoped>\n",
       "    .dataframe tbody tr th:only-of-type {\n",
       "        vertical-align: middle;\n",
       "    }\n",
       "\n",
       "    .dataframe tbody tr th {\n",
       "        vertical-align: top;\n",
       "    }\n",
       "\n",
       "    .dataframe thead th {\n",
       "        text-align: right;\n",
       "    }\n",
       "</style>\n",
       "<table border=\"1\" class=\"dataframe\">\n",
       "  <thead>\n",
       "    <tr style=\"text-align: right;\">\n",
       "      <th></th>\n",
       "      <th>year</th>\n",
       "      <th>week</th>\n",
       "      <th>day</th>\n",
       "      <th>abc</th>\n",
       "    </tr>\n",
       "  </thead>\n",
       "  <tbody>\n",
       "    <tr>\n",
       "      <th>2019-12-29</th>\n",
       "      <td>2019</td>\n",
       "      <td>52</td>\n",
       "      <td>7</td>\n",
       "      <td>Sunday</td>\n",
       "    </tr>\n",
       "    <tr>\n",
       "      <th>2019-12-30</th>\n",
       "      <td>2020</td>\n",
       "      <td>1</td>\n",
       "      <td>1</td>\n",
       "      <td>Monday</td>\n",
       "    </tr>\n",
       "    <tr>\n",
       "      <th>2019-12-31</th>\n",
       "      <td>2020</td>\n",
       "      <td>1</td>\n",
       "      <td>2</td>\n",
       "      <td>Tuesday</td>\n",
       "    </tr>\n",
       "    <tr>\n",
       "      <th>2020-01-01</th>\n",
       "      <td>2020</td>\n",
       "      <td>1</td>\n",
       "      <td>3</td>\n",
       "      <td>Wednesday</td>\n",
       "    </tr>\n",
       "  </tbody>\n",
       "</table>\n",
       "</div>"
      ],
      "text/plain": [
       "            year  week  day        abc\n",
       "2019-12-29  2019    52    7     Sunday\n",
       "2019-12-30  2020     1    1     Monday\n",
       "2019-12-31  2020     1    2    Tuesday\n",
       "2020-01-01  2020     1    3  Wednesday"
      ]
     },
     "execution_count": 94,
     "metadata": {},
     "output_type": "execute_result"
    }
   ],
   "source": [
    "new['abc']= idx.strftime('%A')\n",
    "new"
   ]
  },
  {
   "cell_type": "code",
   "execution_count": 152,
   "id": "af5291fb",
   "metadata": {},
   "outputs": [
    {
     "data": {
      "text/plain": [
       "DatetimeIndex(['2020-01-05', '2020-01-12', '2020-01-19', '2020-01-26',\n",
       "               '2020-02-02', '2020-02-09', '2020-02-16', '2020-02-23',\n",
       "               '2020-03-01', '2020-03-08', '2020-03-15', '2020-03-22',\n",
       "               '2020-03-29', '2020-04-05', '2020-04-12', '2020-04-19',\n",
       "               '2020-04-26', '2020-05-03', '2020-05-10', '2020-05-17',\n",
       "               '2020-05-24', '2020-05-31', '2020-06-07', '2020-06-14',\n",
       "               '2020-06-21', '2020-06-28', '2020-07-05', '2020-07-12',\n",
       "               '2020-07-19', '2020-07-26', '2020-08-02', '2020-08-09',\n",
       "               '2020-08-16', '2020-08-23', '2020-08-30', '2020-09-06',\n",
       "               '2020-09-13', '2020-09-20', '2020-09-27', '2020-10-04',\n",
       "               '2020-10-11', '2020-10-18', '2020-10-25', '2020-11-01',\n",
       "               '2020-11-08', '2020-11-15', '2020-11-22', '2020-11-29',\n",
       "               '2020-12-06', '2020-12-13', '2020-12-20', '2020-12-27',\n",
       "               '2021-01-03', '2021-01-10', '2021-01-17', '2021-01-24',\n",
       "               '2021-01-31', '2021-02-07', '2021-02-14', '2021-02-21',\n",
       "               '2021-02-28', '2021-03-07', '2021-03-14', '2021-03-21',\n",
       "               '2021-03-28', '2021-04-04', '2021-04-11', '2021-04-18',\n",
       "               '2021-04-25', '2021-05-02', '2021-05-09', '2021-05-16',\n",
       "               '2021-05-23', '2021-05-30', '2021-06-06', '2021-06-13',\n",
       "               '2021-06-20', '2021-06-27', '2021-07-04', '2021-07-11',\n",
       "               '2021-07-18', '2021-07-25', '2021-08-01', '2021-08-08',\n",
       "               '2021-08-15', '2021-08-22', '2021-08-29', '2021-09-05',\n",
       "               '2021-09-12', '2021-09-19'],\n",
       "              dtype='datetime64[ns]', freq='W-SUN')"
      ]
     },
     "execution_count": 152,
     "metadata": {},
     "output_type": "execute_result"
    }
   ],
   "source": [
    "pd.date_range('2020',periods=90, freq=pd.offsets.Week(weekday=6))"
   ]
  },
  {
   "cell_type": "code",
   "execution_count": 26,
   "id": "2f92dd1c",
   "metadata": {},
   "outputs": [
    {
     "data": {
      "text/plain": [
       "DatetimeIndex(['2021-01-02', '2021-01-04', '2021-01-05', '2021-01-06',\n",
       "               '2021-01-07', '2021-01-08', '2021-01-09', '2021-01-11',\n",
       "               '2021-01-12', '2021-01-13'],\n",
       "              dtype='datetime64[ns]', freq='C')"
      ]
     },
     "execution_count": 26,
     "metadata": {},
     "output_type": "execute_result"
    }
   ],
   "source": [
    "\n",
    "pd.date_range('2021/1/2', periods= 10, freq=pd.offsets.CDay(weekmask= 'Mon Tue Wed Thu Fri Sat')) "
   ]
  },
  {
   "cell_type": "code",
   "execution_count": 2,
   "id": "dd2c3c9a",
   "metadata": {},
   "outputs": [],
   "source": [
    "import pandas as pd\n",
    "import datetime"
   ]
  },
  {
   "cell_type": "code",
   "execution_count": 11,
   "id": "f76946d9",
   "metadata": {},
   "outputs": [
    {
     "data": {
      "text/plain": [
       "DatetimeIndex(['2020-02-01'], dtype='datetime64[ns]', freq=None)"
      ]
     },
     "execution_count": 11,
     "metadata": {},
     "output_type": "execute_result"
    }
   ],
   "source": [
    "x= pd.to_datetime(['2020/2/1'])\n",
    "x"
   ]
  },
  {
   "cell_type": "code",
   "execution_count": 13,
   "id": "055845d1",
   "metadata": {},
   "outputs": [
    {
     "data": {
      "text/plain": [
       "DatetimeIndex(['2020-02-11'], dtype='datetime64[ns]', freq=None)"
      ]
     },
     "execution_count": 13,
     "metadata": {},
     "output_type": "execute_result"
    }
   ],
   "source": [
    "y= x+pd.offsets.WeekOfMonth(week=1,weekday=1)\n",
    "y"
   ]
  },
  {
   "cell_type": "markdown",
   "id": "7ddc059c",
   "metadata": {},
   "source": [
    "# How to use Freq\n",
    "- cung cấp cho pandas cách lựa chọn tần suất thời gian, thời điểm phù hợp với yêu cầu người dùng\n",
    "- cách để triệu hồi 1 freq lên đó là dùng:\n",
    "\n",
    " (1) freq= 'M/D/B...' . với các chữ cái viết hoa của tùy chỉnh thời gian, cách này sẽ chọn theo đặc trưng mặc định của tùy chỉnh đó, ta ko điều chỉnh được.\n",
    " \n",
    " (2) freq= pd.offsets.BDay/CDay/.....   Với cách này ta có thể điều chỉnh được thời điểm trong tùy chỉnh thời gian mà mình mong muốn, trình bày cụ thể dưới đây\n",
    "\n"
   ]
  },
  {
   "cell_type": "markdown",
   "id": "0d65f408",
   "metadata": {},
   "source": [
    "##### BDay : ('B')\n",
    "freq= pd.offsets.BDay()\n",
    "* ngày làm việc trong tuần ( ngày hành chính đó) trừ thứ 7 và chủ nhật đi.\n",
    "* mặc định là từ thứ 2- thứ 6, không điều chỉnh\n",
    "\n",
    "Ví dụ 1:"
   ]
  },
  {
   "cell_type": "code",
   "execution_count": 20,
   "id": "3582b015",
   "metadata": {},
   "outputs": [
    {
     "data": {
      "text/plain": [
       "DatetimeIndex(['2021-01-04', '2021-01-05', '2021-01-06', '2021-01-07',\n",
       "               '2021-01-08', '2021-01-11', '2021-01-12', '2021-01-13',\n",
       "               '2021-01-14', '2021-01-15'],\n",
       "              dtype='datetime64[ns]', freq='B')"
      ]
     },
     "execution_count": 20,
     "metadata": {},
     "output_type": "execute_result"
    }
   ],
   "source": [
    "pd.date_range(\"2021/1/2\", periods= 10, freq='B')      # viet tat"
   ]
  },
  {
   "cell_type": "code",
   "execution_count": 23,
   "id": "c09661d0",
   "metadata": {},
   "outputs": [
    {
     "data": {
      "text/plain": [
       "DatetimeIndex(['2021-01-04', '2021-01-05', '2021-01-06', '2021-01-07',\n",
       "               '2021-01-08', '2021-01-11', '2021-01-12', '2021-01-13',\n",
       "               '2021-01-14', '2021-01-15'],\n",
       "              dtype='datetime64[ns]', freq='B')"
      ]
     },
     "execution_count": 23,
     "metadata": {},
     "output_type": "execute_result"
    }
   ],
   "source": [
    "pd.date_range(\"2021/1/2\", periods= 10, freq=pd.offsets.BDay())    #viet day du"
   ]
  },
  {
   "cell_type": "markdown",
   "id": "a3f89ba6",
   "metadata": {},
   "source": [
    "##### CDay ('C')\n",
    "freq= pd.offsets.CDay(weekmask= ' Mon Tue Wed Thu Fri Sat Sun')\n",
    "* weekmask: ta có thể tùy chọn các thứ được in ra trong danh sách thứ trên. Dạng list nhé\n",
    "* Mặc định: method này sẽ cho ta mặc định là từ thứ 2 đến thứ 6\n",
    "\n",
    "ví dụ 2: lựa chọn tất cả các ngày trong tuần trừ thứ tư\n",
    "\n"
   ]
  },
  {
   "cell_type": "code",
   "execution_count": 28,
   "id": "b823820b",
   "metadata": {},
   "outputs": [
    {
     "data": {
      "text/plain": [
       "DatetimeIndex(['2021-01-02', '2021-01-04', '2021-01-05', '2021-01-07',\n",
       "               '2021-01-08', '2021-01-09', '2021-01-11', '2021-01-12',\n",
       "               '2021-01-14', '2021-01-15'],\n",
       "              dtype='datetime64[ns]', freq='C')"
      ]
     },
     "execution_count": 28,
     "metadata": {},
     "output_type": "execute_result"
    }
   ],
   "source": [
    "pd.date_range('2021/1/2', periods= 10, freq=pd.offsets.CDay(weekmask= 'Mon Tue Thu Fri Sat')) "
   ]
  },
  {
   "cell_type": "code",
   "execution_count": 38,
   "id": "86a36362",
   "metadata": {},
   "outputs": [
    {
     "data": {
      "text/html": [
       "<div>\n",
       "<style scoped>\n",
       "    .dataframe tbody tr th:only-of-type {\n",
       "        vertical-align: middle;\n",
       "    }\n",
       "\n",
       "    .dataframe tbody tr th {\n",
       "        vertical-align: top;\n",
       "    }\n",
       "\n",
       "    .dataframe thead th {\n",
       "        text-align: right;\n",
       "    }\n",
       "</style>\n",
       "<table border=\"1\" class=\"dataframe\">\n",
       "  <thead>\n",
       "    <tr style=\"text-align: right;\">\n",
       "      <th></th>\n",
       "      <th>Viet Nam</th>\n",
       "      <th>china</th>\n",
       "      <th>Russia</th>\n",
       "      <th>Siria</th>\n",
       "      <th>a</th>\n",
       "      <th>b</th>\n",
       "      <th>c</th>\n",
       "      <th>d</th>\n",
       "    </tr>\n",
       "  </thead>\n",
       "  <tbody>\n",
       "    <tr>\n",
       "      <th>0</th>\n",
       "      <td>[1, 2]</td>\n",
       "      <td>2.0</td>\n",
       "      <td>3.0</td>\n",
       "      <td>4.0</td>\n",
       "      <td>NaN</td>\n",
       "      <td>NaN</td>\n",
       "      <td>NaN</td>\n",
       "      <td>NaN</td>\n",
       "    </tr>\n",
       "    <tr>\n",
       "      <th>1</th>\n",
       "      <td>NaN</td>\n",
       "      <td>NaN</td>\n",
       "      <td>NaN</td>\n",
       "      <td>NaN</td>\n",
       "      <td>2.0</td>\n",
       "      <td>3.0</td>\n",
       "      <td>4.0</td>\n",
       "      <td>5.0</td>\n",
       "    </tr>\n",
       "  </tbody>\n",
       "</table>\n",
       "</div>"
      ],
      "text/plain": [
       "  Viet Nam  china  Russia  Siria    a    b    c    d\n",
       "0   [1, 2]    2.0     3.0    4.0  NaN  NaN  NaN  NaN\n",
       "1      NaN    NaN     NaN    NaN  2.0  3.0  4.0  5.0"
      ]
     },
     "execution_count": 38,
     "metadata": {},
     "output_type": "execute_result"
    }
   ],
   "source": [
    "army_game= pd.DataFrame([{'Viet Nam': [1,2],'china': 2,'Russia':3,'Siria':4}, {'a':2,'b':3,'c':4,'d':5}])\n",
    "army_game"
   ]
  },
  {
   "cell_type": "code",
   "execution_count": 41,
   "id": "330d4e32",
   "metadata": {},
   "outputs": [
    {
     "name": "stdout",
     "output_type": "stream",
     "text": [
      "20:15:25\n"
     ]
    }
   ],
   "source": [
    "import time\n",
    "time.sleep(1)    # 5 minutes and 30 seconds = 330 seconds\n",
    "from datetime import time\n",
    "print(time(20,15,25))"
   ]
  },
  {
   "cell_type": "code",
   "execution_count": 43,
   "id": "d05bfe2c",
   "metadata": {},
   "outputs": [
    {
     "name": "stdout",
     "output_type": "stream",
     "text": [
      "rain\n",
      "sun\n",
      "moon is skipped\n"
     ]
    }
   ],
   "source": [
    "words = [\"rain\", \"sun\", \"moon\", \"exit\", \"weather\"]\n",
    "  \n",
    "for word in words:\n",
    "        #checking for the breaking condition\n",
    "        if word == \"exit\" :\n",
    "                #if the condition is true, then break the loop\n",
    "                break;\n",
    "        if word == \"moon\" :\n",
    "                #this statement will be executed\n",
    "                print(\"moon is skipped\")\n",
    "                continue\n",
    "                #this statement won't be executed\n",
    "                print (\"This won't be printed\")  \n",
    "        #Otherwise, print the word\n",
    "        print (word)"
   ]
  },
  {
   "cell_type": "code",
   "execution_count": 2,
   "id": "24225ae0",
   "metadata": {},
   "outputs": [
    {
     "data": {
      "text/plain": [
       "['root:x:0:0:root:/root:/bin/bash\\n',\n",
       " 'bin:x:1:1:bin:/bin:/sbin/nologin\\n',\n",
       " 'daemon:x:2:2:daemon:/sbin:/sbin/nologin\\n',\n",
       " 'adm:x:3:4:adm:/var/adm:/sbin/nologin\\n',\n",
       " 'lp:x:4:7:lp:/var/spool/lpd:/sbin/nologin\\n',\n",
       " 'shutdown:x:6:0:shutdown:/sbin:/sbin/shutdown\\n',\n",
       " 'mail:x:8:12:mail:/var/spool/mail:/sbin/nologin\\n',\n",
       " 'operator:x:11:0:operator:/root:/sbin/nologin\\n',\n",
       " 'polkitd:x:997:995:User for polkitd:/:/sbin/nologin\\n',\n",
       " 'unbound:x:996:993:Unbound DNS resolver:/etc/unbound:/sbin/nologin\\n',\n",
       " 'usbmuxd:x:113:113:usbmuxd user:/:/sbin/nologin\\n',\n",
       " 'geoclue:x:994:991:User for geoclue:/var/lib/geoclue:/sbin/nologin\\n']"
      ]
     },
     "execution_count": 2,
     "metadata": {},
     "output_type": "execute_result"
    }
   ],
   "source": [
    "data = ['root:x:0:0:root:/root:/bin/bash\\n', 'bin:x:1:1:bin:/bin:/sbin/nologin\\n', 'daemon:x:2:2:daemon:/sbin:/sbin/nologin\\n', 'adm:x:3:4:adm:/var/adm:/sbin/nologin\\n', 'lp:x:4:7:lp:/var/spool/lpd:/sbin/nologin\\n', 'shutdown:x:6:0:shutdown:/sbin:/sbin/shutdown\\n', 'mail:x:8:12:mail:/var/spool/mail:/sbin/nologin\\n', 'operator:x:11:0:operator:/root:/sbin/nologin\\n', 'polkitd:x:997:995:User for polkitd:/:/sbin/nologin\\n', 'unbound:x:996:993:Unbound DNS resolver:/etc/unbound:/sbin/nologin\\n', 'usbmuxd:x:113:113:usbmuxd user:/:/sbin/nologin\\n', 'geoclue:x:994:991:User for geoclue:/var/lib/geoclue:/sbin/nologin\\n']\n",
    "\n",
    "data\n"
   ]
  },
  {
   "cell_type": "code",
   "execution_count": 4,
   "id": "f3b8b6ad",
   "metadata": {},
   "outputs": [
    {
     "name": "stdout",
     "output_type": "stream",
     "text": [
      "Do You Want To Continue? [y/n]y\n",
      "1 adm:x:3:4:adm:/var/adm:/sbin/nologin\n",
      "\n",
      "2 geoclue:x:994:991:User for geoclue:/var/lib/geoclue:/sbin/nologin\n",
      "\n",
      "3 mail:x:8:12:mail:/var/spool/mail:/sbin/nologin\n",
      "\n",
      "4 shutdown:x:6:0:shutdown:/sbin:/sbin/shutdown\n",
      "\n",
      "5 polkitd:x:997:995:User for polkitd:/:/sbin/nologin\n",
      "\n",
      "Do You Want To Continue? [y/n]y\n",
      "1 shutdown:x:6:0:shutdown:/sbin:/sbin/shutdown\n",
      "\n",
      "2 unbound:x:996:993:Unbound DNS resolver:/etc/unbound:/sbin/nologin\n",
      "\n",
      "3 unbound:x:996:993:Unbound DNS resolver:/etc/unbound:/sbin/nologin\n",
      "\n",
      "4 mail:x:8:12:mail:/var/spool/mail:/sbin/nologin\n",
      "\n",
      "5 root:x:0:0:root:/root:/bin/bash\n",
      "\n",
      "Do You Want To Continue? [y/n]n\n"
     ]
    }
   ],
   "source": [
    "import random\n",
    "while input(\"Do You Want To Continue? [y/n]\") == \"y\":\n",
    "    # do something\n",
    "    x= random.choices(data,k=5)\n",
    "    count=0\n",
    "    for i in x:\n",
    "        count=count +1\n",
    "        print(count,i)"
   ]
  },
  {
   "cell_type": "code",
   "execution_count": 5,
   "id": "63c7adb1",
   "metadata": {},
   "outputs": [
    {
     "name": "stdout",
     "output_type": "stream",
     "text": [
      "1\n",
      "2\n",
      "3\n",
      "4\n",
      "5\n"
     ]
    }
   ],
   "source": [
    "i = 1  \n",
    "  \n",
    "while True:  \n",
    "    print(i)  \n",
    "    i = i + 1  \n",
    "    if(i > 5):  \n",
    "        break  "
   ]
  }
 ],
 "metadata": {
  "kernelspec": {
   "display_name": "Python 3",
   "language": "python",
   "name": "python3"
  },
  "language_info": {
   "codemirror_mode": {
    "name": "ipython",
    "version": 3
   },
   "file_extension": ".py",
   "mimetype": "text/x-python",
   "name": "python",
   "nbconvert_exporter": "python",
   "pygments_lexer": "ipython3",
   "version": "3.8.8"
  }
 },
 "nbformat": 4,
 "nbformat_minor": 5
}
